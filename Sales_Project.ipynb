{
 "cells": [
  {
   "cell_type": "code",
   "execution_count": 1,
   "id": "0f0e16a4-1b02-4f19-a71c-4cdea7d59f4e",
   "metadata": {},
   "outputs": [],
   "source": [
    "import pandas as pd"
   ]
  },
  {
   "cell_type": "code",
   "execution_count": 10,
   "id": "74fb997f-34fb-4b45-801e-af3e2d0f92cc",
   "metadata": {},
   "outputs": [
    {
     "data": {
      "text/html": [
       "<div>\n",
       "<style scoped>\n",
       "    .dataframe tbody tr th:only-of-type {\n",
       "        vertical-align: middle;\n",
       "    }\n",
       "\n",
       "    .dataframe tbody tr th {\n",
       "        vertical-align: top;\n",
       "    }\n",
       "\n",
       "    .dataframe thead th {\n",
       "        text-align: right;\n",
       "    }\n",
       "</style>\n",
       "<table border=\"1\" class=\"dataframe\">\n",
       "  <thead>\n",
       "    <tr style=\"text-align: right;\">\n",
       "      <th></th>\n",
       "      <th>Unnamed: 0</th>\n",
       "      <th>Customer ID</th>\n",
       "      <th>Customer Age</th>\n",
       "      <th>Customer Gender</th>\n",
       "      <th>Product Category</th>\n",
       "      <th>Cost</th>\n",
       "      <th>Sales Price</th>\n",
       "      <th>Quantity</th>\n",
       "      <th>Date of Purchase</th>\n",
       "      <th>Region</th>\n",
       "      <th>Sales Channel</th>\n",
       "    </tr>\n",
       "  </thead>\n",
       "  <tbody>\n",
       "    <tr>\n",
       "      <th>0</th>\n",
       "      <td>0</td>\n",
       "      <td>1</td>\n",
       "      <td>38</td>\n",
       "      <td>Male</td>\n",
       "      <td>Sports &amp; Outdoors</td>\n",
       "      <td>389.62</td>\n",
       "      <td>541.5718</td>\n",
       "      <td>3</td>\n",
       "      <td>2022-07-25</td>\n",
       "      <td>East</td>\n",
       "      <td>Online</td>\n",
       "    </tr>\n",
       "    <tr>\n",
       "      <th>1</th>\n",
       "      <td>1</td>\n",
       "      <td>2</td>\n",
       "      <td>66</td>\n",
       "      <td>Other</td>\n",
       "      <td>Sports &amp; Outdoors</td>\n",
       "      <td>133.87</td>\n",
       "      <td>159.3053</td>\n",
       "      <td>4</td>\n",
       "      <td>2023-11-15</td>\n",
       "      <td>West</td>\n",
       "      <td>Online</td>\n",
       "    </tr>\n",
       "    <tr>\n",
       "      <th>2</th>\n",
       "      <td>2</td>\n",
       "      <td>3</td>\n",
       "      <td>60</td>\n",
       "      <td>Male</td>\n",
       "      <td>Electronics</td>\n",
       "      <td>188.87</td>\n",
       "      <td>236.0875</td>\n",
       "      <td>2</td>\n",
       "      <td>2022-08-15</td>\n",
       "      <td>North</td>\n",
       "      <td>Online</td>\n",
       "    </tr>\n",
       "    <tr>\n",
       "      <th>3</th>\n",
       "      <td>3</td>\n",
       "      <td>4</td>\n",
       "      <td>58</td>\n",
       "      <td>Other</td>\n",
       "      <td>Sports &amp; Outdoors</td>\n",
       "      <td>99.05</td>\n",
       "      <td>129.7555</td>\n",
       "      <td>3</td>\n",
       "      <td>2023-08-01</td>\n",
       "      <td>West</td>\n",
       "      <td>In-store</td>\n",
       "    </tr>\n",
       "    <tr>\n",
       "      <th>4</th>\n",
       "      <td>4</td>\n",
       "      <td>5</td>\n",
       "      <td>63</td>\n",
       "      <td>Male</td>\n",
       "      <td>Beauty &amp; Health</td>\n",
       "      <td>488.85</td>\n",
       "      <td>664.8360</td>\n",
       "      <td>3</td>\n",
       "      <td>2022-06-14</td>\n",
       "      <td>South</td>\n",
       "      <td>Online</td>\n",
       "    </tr>\n",
       "  </tbody>\n",
       "</table>\n",
       "</div>"
      ],
      "text/plain": [
       "   Unnamed: 0  Customer ID  Customer Age Customer Gender   Product Category  \\\n",
       "0           0            1            38            Male  Sports & Outdoors   \n",
       "1           1            2            66           Other  Sports & Outdoors   \n",
       "2           2            3            60            Male        Electronics   \n",
       "3           3            4            58           Other  Sports & Outdoors   \n",
       "4           4            5            63            Male    Beauty & Health   \n",
       "\n",
       "     Cost  Sales Price  Quantity Date of Purchase Region Sales Channel  \n",
       "0  389.62     541.5718         3       2022-07-25   East        Online  \n",
       "1  133.87     159.3053         4       2023-11-15   West        Online  \n",
       "2  188.87     236.0875         2       2022-08-15  North        Online  \n",
       "3   99.05     129.7555         3       2023-08-01   West      In-store  \n",
       "4  488.85     664.8360         3       2022-06-14  South        Online  "
      ]
     },
     "execution_count": 10,
     "metadata": {},
     "output_type": "execute_result"
    }
   ],
   "source": [
    "import pandas as pd\n",
    "\n",
    "# Replace 'your_excel_file.xlsx' with the path to your Excel file\n",
    "excel_file = 'project Sales.xlsx'\n",
    "\n",
    "# Load Excel data into a pandas DataFrame\n",
    "df = pd.read_excel(excel_file)\n",
    "\n",
    "# Now, you can work with the data in the 'df' DataFrame\n",
    "# For example, you can print the first few rows of the DataFrame\n",
    "df.head()"
   ]
  },
  {
   "cell_type": "code",
   "execution_count": 11,
   "id": "24b69287-f27f-45ac-8827-6d8414781d7f",
   "metadata": {},
   "outputs": [
    {
     "name": "stdout",
     "output_type": "stream",
     "text": [
      "Missing Values:\n",
      "Series([], dtype: int64)\n"
     ]
    }
   ],
   "source": [
    "# Check for missing values in the entire DataFrame\n",
    "missing_values = df.isnull().sum()\n",
    "\n",
    "# To check for missing values in a specific column, you can use:\n",
    "# missing_values = df['column_name'].isnull().sum()\n",
    "\n",
    "# Print the columns with missing values and their respective counts\n",
    "print(\"Missing Values:\")\n",
    "print(missing_values[missing_values > 0])"
   ]
  },
  {
   "cell_type": "code",
   "execution_count": 5,
   "id": "0d085680-0849-480e-8fa4-240f1de56aec",
   "metadata": {},
   "outputs": [
    {
     "data": {
      "text/plain": [
       "Unnamed: 0                   int64\n",
       "Customer ID                  int64\n",
       "Customer Age                 int64\n",
       "Customer Gender             object\n",
       "Product Category            object\n",
       "Cost                       float64\n",
       "Sales Price                float64\n",
       "Quantity                     int64\n",
       "Date of Purchase    datetime64[ns]\n",
       "Region                      object\n",
       "Sales Channel               object\n",
       "dtype: object"
      ]
     },
     "execution_count": 5,
     "metadata": {},
     "output_type": "execute_result"
    }
   ],
   "source": [
    "df.dtypes"
   ]
  },
  {
   "cell_type": "code",
   "execution_count": 12,
   "id": "5d8dc614-8122-4b1f-bee4-ebc381a6c0a8",
   "metadata": {},
   "outputs": [
    {
     "data": {
      "text/plain": [
       "Unnamed: 0          0\n",
       "Customer ID         0\n",
       "Customer Age        0\n",
       "Customer Gender     0\n",
       "Product Category    0\n",
       "Cost                0\n",
       "Sales Price         0\n",
       "Quantity            0\n",
       "Date of Purchase    0\n",
       "Region              0\n",
       "Sales Channel       0\n",
       "dtype: int64"
      ]
     },
     "execution_count": 12,
     "metadata": {},
     "output_type": "execute_result"
    }
   ],
   "source": [
    "df.isnull().sum()"
   ]
  },
  {
   "cell_type": "code",
   "execution_count": 13,
   "id": "00d11209-27a3-4b16-9c5a-6ee692847296",
   "metadata": {},
   "outputs": [
    {
     "name": "stdout",
     "output_type": "stream",
     "text": [
      "Duplicate Rows:\n"
     ]
    },
    {
     "data": {
      "text/html": [
       "<div>\n",
       "<style scoped>\n",
       "    .dataframe tbody tr th:only-of-type {\n",
       "        vertical-align: middle;\n",
       "    }\n",
       "\n",
       "    .dataframe tbody tr th {\n",
       "        vertical-align: top;\n",
       "    }\n",
       "\n",
       "    .dataframe thead th {\n",
       "        text-align: right;\n",
       "    }\n",
       "</style>\n",
       "<table border=\"1\" class=\"dataframe\">\n",
       "  <thead>\n",
       "    <tr style=\"text-align: right;\">\n",
       "      <th></th>\n",
       "      <th>Unnamed: 0</th>\n",
       "      <th>Customer ID</th>\n",
       "      <th>Customer Age</th>\n",
       "      <th>Customer Gender</th>\n",
       "      <th>Product Category</th>\n",
       "      <th>Cost</th>\n",
       "      <th>Sales Price</th>\n",
       "      <th>Quantity</th>\n",
       "      <th>Date of Purchase</th>\n",
       "      <th>Region</th>\n",
       "      <th>Sales Channel</th>\n",
       "    </tr>\n",
       "  </thead>\n",
       "  <tbody>\n",
       "  </tbody>\n",
       "</table>\n",
       "</div>"
      ],
      "text/plain": [
       "Empty DataFrame\n",
       "Columns: [Unnamed: 0, Customer ID, Customer Age, Customer Gender, Product Category, Cost, Sales Price, Quantity, Date of Purchase, Region, Sales Channel]\n",
       "Index: []"
      ]
     },
     "execution_count": 13,
     "metadata": {},
     "output_type": "execute_result"
    }
   ],
   "source": [
    "# Identify duplicate rows based on all columns\n",
    "duplicates = df[df.duplicated()]\n",
    "\n",
    "# Print duplicate rows\n",
    "print(\"Duplicate Rows:\")\n",
    "duplicates"
   ]
  },
  {
   "cell_type": "code",
   "execution_count": 14,
   "id": "a017aded-9df0-4285-b00c-fb764cf362c4",
   "metadata": {
    "scrolled": true
   },
   "outputs": [
    {
     "name": "stdout",
     "output_type": "stream",
     "text": [
      "DataFrame without Duplicates:\n"
     ]
    },
    {
     "data": {
      "text/html": [
       "<div>\n",
       "<style scoped>\n",
       "    .dataframe tbody tr th:only-of-type {\n",
       "        vertical-align: middle;\n",
       "    }\n",
       "\n",
       "    .dataframe tbody tr th {\n",
       "        vertical-align: top;\n",
       "    }\n",
       "\n",
       "    .dataframe thead th {\n",
       "        text-align: right;\n",
       "    }\n",
       "</style>\n",
       "<table border=\"1\" class=\"dataframe\">\n",
       "  <thead>\n",
       "    <tr style=\"text-align: right;\">\n",
       "      <th></th>\n",
       "      <th>Unnamed: 0</th>\n",
       "      <th>Customer ID</th>\n",
       "      <th>Customer Age</th>\n",
       "      <th>Customer Gender</th>\n",
       "      <th>Product Category</th>\n",
       "      <th>Cost</th>\n",
       "      <th>Sales Price</th>\n",
       "      <th>Quantity</th>\n",
       "      <th>Date of Purchase</th>\n",
       "      <th>Region</th>\n",
       "      <th>Sales Channel</th>\n",
       "    </tr>\n",
       "  </thead>\n",
       "  <tbody>\n",
       "    <tr>\n",
       "      <th>0</th>\n",
       "      <td>0</td>\n",
       "      <td>1</td>\n",
       "      <td>38</td>\n",
       "      <td>Male</td>\n",
       "      <td>Sports &amp; Outdoors</td>\n",
       "      <td>389.62</td>\n",
       "      <td>541.5718</td>\n",
       "      <td>3</td>\n",
       "      <td>2022-07-25</td>\n",
       "      <td>East</td>\n",
       "      <td>Online</td>\n",
       "    </tr>\n",
       "    <tr>\n",
       "      <th>1</th>\n",
       "      <td>1</td>\n",
       "      <td>2</td>\n",
       "      <td>66</td>\n",
       "      <td>Other</td>\n",
       "      <td>Sports &amp; Outdoors</td>\n",
       "      <td>133.87</td>\n",
       "      <td>159.3053</td>\n",
       "      <td>4</td>\n",
       "      <td>2023-11-15</td>\n",
       "      <td>West</td>\n",
       "      <td>Online</td>\n",
       "    </tr>\n",
       "    <tr>\n",
       "      <th>2</th>\n",
       "      <td>2</td>\n",
       "      <td>3</td>\n",
       "      <td>60</td>\n",
       "      <td>Male</td>\n",
       "      <td>Electronics</td>\n",
       "      <td>188.87</td>\n",
       "      <td>236.0875</td>\n",
       "      <td>2</td>\n",
       "      <td>2022-08-15</td>\n",
       "      <td>North</td>\n",
       "      <td>Online</td>\n",
       "    </tr>\n",
       "    <tr>\n",
       "      <th>3</th>\n",
       "      <td>3</td>\n",
       "      <td>4</td>\n",
       "      <td>58</td>\n",
       "      <td>Other</td>\n",
       "      <td>Sports &amp; Outdoors</td>\n",
       "      <td>99.05</td>\n",
       "      <td>129.7555</td>\n",
       "      <td>3</td>\n",
       "      <td>2023-08-01</td>\n",
       "      <td>West</td>\n",
       "      <td>In-store</td>\n",
       "    </tr>\n",
       "    <tr>\n",
       "      <th>4</th>\n",
       "      <td>4</td>\n",
       "      <td>5</td>\n",
       "      <td>63</td>\n",
       "      <td>Male</td>\n",
       "      <td>Beauty &amp; Health</td>\n",
       "      <td>488.85</td>\n",
       "      <td>664.8360</td>\n",
       "      <td>3</td>\n",
       "      <td>2022-06-14</td>\n",
       "      <td>South</td>\n",
       "      <td>Online</td>\n",
       "    </tr>\n",
       "    <tr>\n",
       "      <th>...</th>\n",
       "      <td>...</td>\n",
       "      <td>...</td>\n",
       "      <td>...</td>\n",
       "      <td>...</td>\n",
       "      <td>...</td>\n",
       "      <td>...</td>\n",
       "      <td>...</td>\n",
       "      <td>...</td>\n",
       "      <td>...</td>\n",
       "      <td>...</td>\n",
       "      <td>...</td>\n",
       "    </tr>\n",
       "    <tr>\n",
       "      <th>95</th>\n",
       "      <td>95</td>\n",
       "      <td>96</td>\n",
       "      <td>26</td>\n",
       "      <td>Male</td>\n",
       "      <td>Electronics</td>\n",
       "      <td>136.08</td>\n",
       "      <td>194.5944</td>\n",
       "      <td>3</td>\n",
       "      <td>2024-02-05</td>\n",
       "      <td>East</td>\n",
       "      <td>Online</td>\n",
       "    </tr>\n",
       "    <tr>\n",
       "      <th>96</th>\n",
       "      <td>96</td>\n",
       "      <td>97</td>\n",
       "      <td>22</td>\n",
       "      <td>Male</td>\n",
       "      <td>Sports &amp; Outdoors</td>\n",
       "      <td>78.64</td>\n",
       "      <td>88.8632</td>\n",
       "      <td>2</td>\n",
       "      <td>2022-07-31</td>\n",
       "      <td>North</td>\n",
       "      <td>In-store</td>\n",
       "    </tr>\n",
       "    <tr>\n",
       "      <th>97</th>\n",
       "      <td>97</td>\n",
       "      <td>98</td>\n",
       "      <td>36</td>\n",
       "      <td>Other</td>\n",
       "      <td>Home &amp; Kitchen</td>\n",
       "      <td>364.79</td>\n",
       "      <td>404.9169</td>\n",
       "      <td>2</td>\n",
       "      <td>2023-05-11</td>\n",
       "      <td>South</td>\n",
       "      <td>In-store</td>\n",
       "    </tr>\n",
       "    <tr>\n",
       "      <th>98</th>\n",
       "      <td>98</td>\n",
       "      <td>99</td>\n",
       "      <td>45</td>\n",
       "      <td>Other</td>\n",
       "      <td>Electronics</td>\n",
       "      <td>327.01</td>\n",
       "      <td>461.0841</td>\n",
       "      <td>2</td>\n",
       "      <td>2022-10-27</td>\n",
       "      <td>East</td>\n",
       "      <td>In-store</td>\n",
       "    </tr>\n",
       "    <tr>\n",
       "      <th>99</th>\n",
       "      <td>99</td>\n",
       "      <td>100</td>\n",
       "      <td>68</td>\n",
       "      <td>Male</td>\n",
       "      <td>Sports &amp; Outdoors</td>\n",
       "      <td>379.05</td>\n",
       "      <td>462.4410</td>\n",
       "      <td>2</td>\n",
       "      <td>2022-02-14</td>\n",
       "      <td>North</td>\n",
       "      <td>Online</td>\n",
       "    </tr>\n",
       "  </tbody>\n",
       "</table>\n",
       "<p>100 rows × 11 columns</p>\n",
       "</div>"
      ],
      "text/plain": [
       "    Unnamed: 0  Customer ID  Customer Age Customer Gender   Product Category  \\\n",
       "0            0            1            38            Male  Sports & Outdoors   \n",
       "1            1            2            66           Other  Sports & Outdoors   \n",
       "2            2            3            60            Male        Electronics   \n",
       "3            3            4            58           Other  Sports & Outdoors   \n",
       "4            4            5            63            Male    Beauty & Health   \n",
       "..         ...          ...           ...             ...                ...   \n",
       "95          95           96            26            Male        Electronics   \n",
       "96          96           97            22            Male  Sports & Outdoors   \n",
       "97          97           98            36           Other     Home & Kitchen   \n",
       "98          98           99            45           Other        Electronics   \n",
       "99          99          100            68            Male  Sports & Outdoors   \n",
       "\n",
       "      Cost  Sales Price  Quantity Date of Purchase Region Sales Channel  \n",
       "0   389.62     541.5718         3       2022-07-25   East        Online  \n",
       "1   133.87     159.3053         4       2023-11-15   West        Online  \n",
       "2   188.87     236.0875         2       2022-08-15  North        Online  \n",
       "3    99.05     129.7555         3       2023-08-01   West      In-store  \n",
       "4   488.85     664.8360         3       2022-06-14  South        Online  \n",
       "..     ...          ...       ...              ...    ...           ...  \n",
       "95  136.08     194.5944         3       2024-02-05   East        Online  \n",
       "96   78.64      88.8632         2       2022-07-31  North      In-store  \n",
       "97  364.79     404.9169         2       2023-05-11  South      In-store  \n",
       "98  327.01     461.0841         2       2022-10-27   East      In-store  \n",
       "99  379.05     462.4410         2       2022-02-14  North        Online  \n",
       "\n",
       "[100 rows x 11 columns]"
      ]
     },
     "execution_count": 14,
     "metadata": {},
     "output_type": "execute_result"
    }
   ],
   "source": [
    "# Remove duplicate rows, keeping the first occurrence\n",
    "df_no_duplicates = df.drop_duplicates()\n",
    "\n",
    "# Print the DataFrame without duplicates\n",
    "print(\"DataFrame without Duplicates:\")\n",
    "df_no_duplicates"
   ]
  },
  {
   "cell_type": "code",
   "execution_count": 30,
   "id": "da788d39-853d-46d7-8221-da629fb81ba5",
   "metadata": {},
   "outputs": [],
   "source": [
    "cleaned_data = df_no_duplicates"
   ]
  },
  {
   "cell_type": "code",
   "execution_count": 31,
   "id": "7fccd38d-c583-44ce-bc49-b5f3a48dcf7e",
   "metadata": {},
   "outputs": [
    {
     "data": {
      "text/html": [
       "<div>\n",
       "<style scoped>\n",
       "    .dataframe tbody tr th:only-of-type {\n",
       "        vertical-align: middle;\n",
       "    }\n",
       "\n",
       "    .dataframe tbody tr th {\n",
       "        vertical-align: top;\n",
       "    }\n",
       "\n",
       "    .dataframe thead th {\n",
       "        text-align: right;\n",
       "    }\n",
       "</style>\n",
       "<table border=\"1\" class=\"dataframe\">\n",
       "  <thead>\n",
       "    <tr style=\"text-align: right;\">\n",
       "      <th></th>\n",
       "      <th>Unnamed: 0</th>\n",
       "      <th>Customer ID</th>\n",
       "      <th>Customer Age</th>\n",
       "      <th>Customer Gender</th>\n",
       "      <th>Product Category</th>\n",
       "      <th>Cost</th>\n",
       "      <th>Sales Price</th>\n",
       "      <th>Quantity</th>\n",
       "      <th>Date of Purchase</th>\n",
       "      <th>Region</th>\n",
       "      <th>Sales Channel</th>\n",
       "    </tr>\n",
       "  </thead>\n",
       "  <tbody>\n",
       "    <tr>\n",
       "      <th>0</th>\n",
       "      <td>0</td>\n",
       "      <td>1</td>\n",
       "      <td>38</td>\n",
       "      <td>Male</td>\n",
       "      <td>Sports &amp; Outdoors</td>\n",
       "      <td>389.62</td>\n",
       "      <td>541.5718</td>\n",
       "      <td>3</td>\n",
       "      <td>2022-07-25</td>\n",
       "      <td>East</td>\n",
       "      <td>Online</td>\n",
       "    </tr>\n",
       "    <tr>\n",
       "      <th>1</th>\n",
       "      <td>1</td>\n",
       "      <td>2</td>\n",
       "      <td>66</td>\n",
       "      <td>Other</td>\n",
       "      <td>Sports &amp; Outdoors</td>\n",
       "      <td>133.87</td>\n",
       "      <td>159.3053</td>\n",
       "      <td>4</td>\n",
       "      <td>2023-11-15</td>\n",
       "      <td>West</td>\n",
       "      <td>Online</td>\n",
       "    </tr>\n",
       "    <tr>\n",
       "      <th>2</th>\n",
       "      <td>2</td>\n",
       "      <td>3</td>\n",
       "      <td>60</td>\n",
       "      <td>Male</td>\n",
       "      <td>Electronics</td>\n",
       "      <td>188.87</td>\n",
       "      <td>236.0875</td>\n",
       "      <td>2</td>\n",
       "      <td>2022-08-15</td>\n",
       "      <td>North</td>\n",
       "      <td>Online</td>\n",
       "    </tr>\n",
       "    <tr>\n",
       "      <th>3</th>\n",
       "      <td>3</td>\n",
       "      <td>4</td>\n",
       "      <td>58</td>\n",
       "      <td>Other</td>\n",
       "      <td>Sports &amp; Outdoors</td>\n",
       "      <td>99.05</td>\n",
       "      <td>129.7555</td>\n",
       "      <td>3</td>\n",
       "      <td>2023-08-01</td>\n",
       "      <td>West</td>\n",
       "      <td>In-store</td>\n",
       "    </tr>\n",
       "    <tr>\n",
       "      <th>4</th>\n",
       "      <td>4</td>\n",
       "      <td>5</td>\n",
       "      <td>63</td>\n",
       "      <td>Male</td>\n",
       "      <td>Beauty &amp; Health</td>\n",
       "      <td>488.85</td>\n",
       "      <td>664.8360</td>\n",
       "      <td>3</td>\n",
       "      <td>2022-06-14</td>\n",
       "      <td>South</td>\n",
       "      <td>Online</td>\n",
       "    </tr>\n",
       "  </tbody>\n",
       "</table>\n",
       "</div>"
      ],
      "text/plain": [
       "   Unnamed: 0  Customer ID  Customer Age Customer Gender   Product Category  \\\n",
       "0           0            1            38            Male  Sports & Outdoors   \n",
       "1           1            2            66           Other  Sports & Outdoors   \n",
       "2           2            3            60            Male        Electronics   \n",
       "3           3            4            58           Other  Sports & Outdoors   \n",
       "4           4            5            63            Male    Beauty & Health   \n",
       "\n",
       "     Cost  Sales Price  Quantity Date of Purchase Region Sales Channel  \n",
       "0  389.62     541.5718         3       2022-07-25   East        Online  \n",
       "1  133.87     159.3053         4       2023-11-15   West        Online  \n",
       "2  188.87     236.0875         2       2022-08-15  North        Online  \n",
       "3   99.05     129.7555         3       2023-08-01   West      In-store  \n",
       "4  488.85     664.8360         3       2022-06-14  South        Online  "
      ]
     },
     "execution_count": 31,
     "metadata": {},
     "output_type": "execute_result"
    }
   ],
   "source": [
    "cleaned_data.head()"
   ]
  },
  {
   "cell_type": "code",
   "execution_count": 16,
   "id": "2cdd9e73-78c7-4a3c-b7cb-75a1115d3946",
   "metadata": {},
   "outputs": [],
   "source": [
    "df_sorted = df.sort_values(by='Customer Age', ascending=True)"
   ]
  },
  {
   "cell_type": "code",
   "execution_count": 17,
   "id": "5c0c2278-6f82-4562-8427-4f594e06759e",
   "metadata": {},
   "outputs": [
    {
     "data": {
      "text/html": [
       "<div>\n",
       "<style scoped>\n",
       "    .dataframe tbody tr th:only-of-type {\n",
       "        vertical-align: middle;\n",
       "    }\n",
       "\n",
       "    .dataframe tbody tr th {\n",
       "        vertical-align: top;\n",
       "    }\n",
       "\n",
       "    .dataframe thead th {\n",
       "        text-align: right;\n",
       "    }\n",
       "</style>\n",
       "<table border=\"1\" class=\"dataframe\">\n",
       "  <thead>\n",
       "    <tr style=\"text-align: right;\">\n",
       "      <th></th>\n",
       "      <th>Unnamed: 0</th>\n",
       "      <th>Customer ID</th>\n",
       "      <th>Customer Age</th>\n",
       "      <th>Customer Gender</th>\n",
       "      <th>Product Category</th>\n",
       "      <th>Cost</th>\n",
       "      <th>Sales Price</th>\n",
       "      <th>Quantity</th>\n",
       "      <th>Date of Purchase</th>\n",
       "      <th>Region</th>\n",
       "      <th>Sales Channel</th>\n",
       "    </tr>\n",
       "  </thead>\n",
       "  <tbody>\n",
       "    <tr>\n",
       "      <th>51</th>\n",
       "      <td>51</td>\n",
       "      <td>52</td>\n",
       "      <td>18</td>\n",
       "      <td>Other</td>\n",
       "      <td>Beauty &amp; Health</td>\n",
       "      <td>163.37</td>\n",
       "      <td>223.8169</td>\n",
       "      <td>4</td>\n",
       "      <td>2023-07-08</td>\n",
       "      <td>South</td>\n",
       "      <td>In-store</td>\n",
       "    </tr>\n",
       "    <tr>\n",
       "      <th>57</th>\n",
       "      <td>57</td>\n",
       "      <td>58</td>\n",
       "      <td>19</td>\n",
       "      <td>Female</td>\n",
       "      <td>Beauty &amp; Health</td>\n",
       "      <td>393.13</td>\n",
       "      <td>471.7560</td>\n",
       "      <td>3</td>\n",
       "      <td>2023-01-30</td>\n",
       "      <td>South</td>\n",
       "      <td>Online</td>\n",
       "    </tr>\n",
       "    <tr>\n",
       "      <th>72</th>\n",
       "      <td>72</td>\n",
       "      <td>73</td>\n",
       "      <td>19</td>\n",
       "      <td>Female</td>\n",
       "      <td>Electronics</td>\n",
       "      <td>169.86</td>\n",
       "      <td>193.6404</td>\n",
       "      <td>2</td>\n",
       "      <td>2022-12-27</td>\n",
       "      <td>West</td>\n",
       "      <td>In-store</td>\n",
       "    </tr>\n",
       "    <tr>\n",
       "      <th>78</th>\n",
       "      <td>78</td>\n",
       "      <td>79</td>\n",
       "      <td>19</td>\n",
       "      <td>Female</td>\n",
       "      <td>Beauty &amp; Health</td>\n",
       "      <td>84.69</td>\n",
       "      <td>94.8528</td>\n",
       "      <td>4</td>\n",
       "      <td>2022-11-23</td>\n",
       "      <td>East</td>\n",
       "      <td>Online</td>\n",
       "    </tr>\n",
       "    <tr>\n",
       "      <th>40</th>\n",
       "      <td>40</td>\n",
       "      <td>41</td>\n",
       "      <td>21</td>\n",
       "      <td>Other</td>\n",
       "      <td>Home &amp; Kitchen</td>\n",
       "      <td>106.44</td>\n",
       "      <td>141.5652</td>\n",
       "      <td>2</td>\n",
       "      <td>2022-04-27</td>\n",
       "      <td>North</td>\n",
       "      <td>Online</td>\n",
       "    </tr>\n",
       "    <tr>\n",
       "      <th>...</th>\n",
       "      <td>...</td>\n",
       "      <td>...</td>\n",
       "      <td>...</td>\n",
       "      <td>...</td>\n",
       "      <td>...</td>\n",
       "      <td>...</td>\n",
       "      <td>...</td>\n",
       "      <td>...</td>\n",
       "      <td>...</td>\n",
       "      <td>...</td>\n",
       "      <td>...</td>\n",
       "    </tr>\n",
       "    <tr>\n",
       "      <th>35</th>\n",
       "      <td>35</td>\n",
       "      <td>36</td>\n",
       "      <td>67</td>\n",
       "      <td>Male</td>\n",
       "      <td>Electronics</td>\n",
       "      <td>262.10</td>\n",
       "      <td>296.1730</td>\n",
       "      <td>1</td>\n",
       "      <td>2022-02-26</td>\n",
       "      <td>South</td>\n",
       "      <td>In-store</td>\n",
       "    </tr>\n",
       "    <tr>\n",
       "      <th>54</th>\n",
       "      <td>54</td>\n",
       "      <td>55</td>\n",
       "      <td>67</td>\n",
       "      <td>Other</td>\n",
       "      <td>Electronics</td>\n",
       "      <td>431.37</td>\n",
       "      <td>582.3495</td>\n",
       "      <td>1</td>\n",
       "      <td>2023-11-25</td>\n",
       "      <td>East</td>\n",
       "      <td>In-store</td>\n",
       "    </tr>\n",
       "    <tr>\n",
       "      <th>11</th>\n",
       "      <td>11</td>\n",
       "      <td>12</td>\n",
       "      <td>68</td>\n",
       "      <td>Female</td>\n",
       "      <td>Home &amp; Kitchen</td>\n",
       "      <td>255.16</td>\n",
       "      <td>380.1884</td>\n",
       "      <td>3</td>\n",
       "      <td>2023-05-05</td>\n",
       "      <td>East</td>\n",
       "      <td>Online</td>\n",
       "    </tr>\n",
       "    <tr>\n",
       "      <th>99</th>\n",
       "      <td>99</td>\n",
       "      <td>100</td>\n",
       "      <td>68</td>\n",
       "      <td>Male</td>\n",
       "      <td>Sports &amp; Outdoors</td>\n",
       "      <td>379.05</td>\n",
       "      <td>462.4410</td>\n",
       "      <td>2</td>\n",
       "      <td>2022-02-14</td>\n",
       "      <td>North</td>\n",
       "      <td>Online</td>\n",
       "    </tr>\n",
       "    <tr>\n",
       "      <th>21</th>\n",
       "      <td>21</td>\n",
       "      <td>22</td>\n",
       "      <td>69</td>\n",
       "      <td>Female</td>\n",
       "      <td>Beauty &amp; Health</td>\n",
       "      <td>86.88</td>\n",
       "      <td>116.4192</td>\n",
       "      <td>4</td>\n",
       "      <td>2023-10-01</td>\n",
       "      <td>East</td>\n",
       "      <td>In-store</td>\n",
       "    </tr>\n",
       "  </tbody>\n",
       "</table>\n",
       "<p>100 rows × 11 columns</p>\n",
       "</div>"
      ],
      "text/plain": [
       "    Unnamed: 0  Customer ID  Customer Age Customer Gender   Product Category  \\\n",
       "51          51           52            18           Other    Beauty & Health   \n",
       "57          57           58            19          Female    Beauty & Health   \n",
       "72          72           73            19          Female        Electronics   \n",
       "78          78           79            19          Female    Beauty & Health   \n",
       "40          40           41            21           Other     Home & Kitchen   \n",
       "..         ...          ...           ...             ...                ...   \n",
       "35          35           36            67            Male        Electronics   \n",
       "54          54           55            67           Other        Electronics   \n",
       "11          11           12            68          Female     Home & Kitchen   \n",
       "99          99          100            68            Male  Sports & Outdoors   \n",
       "21          21           22            69          Female    Beauty & Health   \n",
       "\n",
       "      Cost  Sales Price  Quantity Date of Purchase Region Sales Channel  \n",
       "51  163.37     223.8169         4       2023-07-08  South      In-store  \n",
       "57  393.13     471.7560         3       2023-01-30  South        Online  \n",
       "72  169.86     193.6404         2       2022-12-27   West      In-store  \n",
       "78   84.69      94.8528         4       2022-11-23   East        Online  \n",
       "40  106.44     141.5652         2       2022-04-27  North        Online  \n",
       "..     ...          ...       ...              ...    ...           ...  \n",
       "35  262.10     296.1730         1       2022-02-26  South      In-store  \n",
       "54  431.37     582.3495         1       2023-11-25   East      In-store  \n",
       "11  255.16     380.1884         3       2023-05-05   East        Online  \n",
       "99  379.05     462.4410         2       2022-02-14  North        Online  \n",
       "21   86.88     116.4192         4       2023-10-01   East      In-store  \n",
       "\n",
       "[100 rows x 11 columns]"
      ]
     },
     "execution_count": 17,
     "metadata": {},
     "output_type": "execute_result"
    }
   ],
   "source": [
    "df_sorted"
   ]
  },
  {
   "cell_type": "code",
   "execution_count": 32,
   "id": "12cca51a-ab65-4a94-9751-38479d6d361a",
   "metadata": {},
   "outputs": [
    {
     "data": {
      "text/html": [
       "<div>\n",
       "<style scoped>\n",
       "    .dataframe tbody tr th:only-of-type {\n",
       "        vertical-align: middle;\n",
       "    }\n",
       "\n",
       "    .dataframe tbody tr th {\n",
       "        vertical-align: top;\n",
       "    }\n",
       "\n",
       "    .dataframe thead th {\n",
       "        text-align: right;\n",
       "    }\n",
       "</style>\n",
       "<table border=\"1\" class=\"dataframe\">\n",
       "  <thead>\n",
       "    <tr style=\"text-align: right;\">\n",
       "      <th></th>\n",
       "      <th>Unnamed: 0</th>\n",
       "      <th>Customer ID</th>\n",
       "      <th>Customer Age</th>\n",
       "      <th>Customer Gender</th>\n",
       "      <th>Product Category</th>\n",
       "      <th>Cost</th>\n",
       "      <th>Sales Price</th>\n",
       "      <th>Quantity</th>\n",
       "      <th>Date of Purchase</th>\n",
       "      <th>Region</th>\n",
       "      <th>Sales Channel</th>\n",
       "    </tr>\n",
       "  </thead>\n",
       "  <tbody>\n",
       "    <tr>\n",
       "      <th>0</th>\n",
       "      <td>0</td>\n",
       "      <td>1</td>\n",
       "      <td>38</td>\n",
       "      <td>Male</td>\n",
       "      <td>Sports &amp; Outdoors</td>\n",
       "      <td>389.62</td>\n",
       "      <td>541.5718</td>\n",
       "      <td>3</td>\n",
       "      <td>2022-07-25</td>\n",
       "      <td>East</td>\n",
       "      <td>Online</td>\n",
       "    </tr>\n",
       "    <tr>\n",
       "      <th>1</th>\n",
       "      <td>1</td>\n",
       "      <td>2</td>\n",
       "      <td>66</td>\n",
       "      <td>Other</td>\n",
       "      <td>Sports &amp; Outdoors</td>\n",
       "      <td>133.87</td>\n",
       "      <td>159.3053</td>\n",
       "      <td>4</td>\n",
       "      <td>2023-11-15</td>\n",
       "      <td>West</td>\n",
       "      <td>Online</td>\n",
       "    </tr>\n",
       "    <tr>\n",
       "      <th>2</th>\n",
       "      <td>2</td>\n",
       "      <td>3</td>\n",
       "      <td>60</td>\n",
       "      <td>Male</td>\n",
       "      <td>Electronics</td>\n",
       "      <td>188.87</td>\n",
       "      <td>236.0875</td>\n",
       "      <td>2</td>\n",
       "      <td>2022-08-15</td>\n",
       "      <td>North</td>\n",
       "      <td>Online</td>\n",
       "    </tr>\n",
       "    <tr>\n",
       "      <th>4</th>\n",
       "      <td>4</td>\n",
       "      <td>5</td>\n",
       "      <td>63</td>\n",
       "      <td>Male</td>\n",
       "      <td>Beauty &amp; Health</td>\n",
       "      <td>488.85</td>\n",
       "      <td>664.8360</td>\n",
       "      <td>3</td>\n",
       "      <td>2022-06-14</td>\n",
       "      <td>South</td>\n",
       "      <td>Online</td>\n",
       "    </tr>\n",
       "    <tr>\n",
       "      <th>5</th>\n",
       "      <td>5</td>\n",
       "      <td>6</td>\n",
       "      <td>62</td>\n",
       "      <td>Other</td>\n",
       "      <td>Sports &amp; Outdoors</td>\n",
       "      <td>230.44</td>\n",
       "      <td>329.5292</td>\n",
       "      <td>3</td>\n",
       "      <td>2023-03-22</td>\n",
       "      <td>East</td>\n",
       "      <td>Online</td>\n",
       "    </tr>\n",
       "  </tbody>\n",
       "</table>\n",
       "</div>"
      ],
      "text/plain": [
       "   Unnamed: 0  Customer ID  Customer Age Customer Gender   Product Category  \\\n",
       "0           0            1            38            Male  Sports & Outdoors   \n",
       "1           1            2            66           Other  Sports & Outdoors   \n",
       "2           2            3            60            Male        Electronics   \n",
       "4           4            5            63            Male    Beauty & Health   \n",
       "5           5            6            62           Other  Sports & Outdoors   \n",
       "\n",
       "     Cost  Sales Price  Quantity Date of Purchase Region Sales Channel  \n",
       "0  389.62     541.5718         3       2022-07-25   East        Online  \n",
       "1  133.87     159.3053         4       2023-11-15   West        Online  \n",
       "2  188.87     236.0875         2       2022-08-15  North        Online  \n",
       "4  488.85     664.8360         3       2022-06-14  South        Online  \n",
       "5  230.44     329.5292         3       2023-03-22   East        Online  "
      ]
     },
     "execution_count": 32,
     "metadata": {},
     "output_type": "execute_result"
    }
   ],
   "source": [
    "Channel_df = df[df['Sales Channel'] == 'Online']\n",
    "Channel_df.head()"
   ]
  },
  {
   "cell_type": "code",
   "execution_count": 18,
   "id": "35aeac5a-b793-407a-ae4a-4819e74b4fe2",
   "metadata": {},
   "outputs": [],
   "source": [
    "Gender_Product_df = df[(df['Customer Gender'] == 'Male') & (df['Product Category'] == 'Clothing')]\n"
   ]
  },
  {
   "cell_type": "code",
   "execution_count": 19,
   "id": "c44a0ddc-6f15-4e8c-a479-d2597f28cfa5",
   "metadata": {},
   "outputs": [
    {
     "data": {
      "text/html": [
       "<div>\n",
       "<style scoped>\n",
       "    .dataframe tbody tr th:only-of-type {\n",
       "        vertical-align: middle;\n",
       "    }\n",
       "\n",
       "    .dataframe tbody tr th {\n",
       "        vertical-align: top;\n",
       "    }\n",
       "\n",
       "    .dataframe thead th {\n",
       "        text-align: right;\n",
       "    }\n",
       "</style>\n",
       "<table border=\"1\" class=\"dataframe\">\n",
       "  <thead>\n",
       "    <tr style=\"text-align: right;\">\n",
       "      <th></th>\n",
       "      <th>Unnamed: 0</th>\n",
       "      <th>Customer ID</th>\n",
       "      <th>Customer Age</th>\n",
       "      <th>Customer Gender</th>\n",
       "      <th>Product Category</th>\n",
       "      <th>Cost</th>\n",
       "      <th>Sales Price</th>\n",
       "      <th>Quantity</th>\n",
       "      <th>Date of Purchase</th>\n",
       "      <th>Region</th>\n",
       "      <th>Sales Channel</th>\n",
       "    </tr>\n",
       "  </thead>\n",
       "  <tbody>\n",
       "    <tr>\n",
       "      <th>7</th>\n",
       "      <td>7</td>\n",
       "      <td>8</td>\n",
       "      <td>58</td>\n",
       "      <td>Male</td>\n",
       "      <td>Clothing</td>\n",
       "      <td>331.74</td>\n",
       "      <td>417.9924</td>\n",
       "      <td>1</td>\n",
       "      <td>2023-03-27</td>\n",
       "      <td>West</td>\n",
       "      <td>In-store</td>\n",
       "    </tr>\n",
       "    <tr>\n",
       "      <th>14</th>\n",
       "      <td>14</td>\n",
       "      <td>15</td>\n",
       "      <td>36</td>\n",
       "      <td>Male</td>\n",
       "      <td>Clothing</td>\n",
       "      <td>489.66</td>\n",
       "      <td>646.3512</td>\n",
       "      <td>3</td>\n",
       "      <td>2022-04-17</td>\n",
       "      <td>East</td>\n",
       "      <td>Online</td>\n",
       "    </tr>\n",
       "    <tr>\n",
       "      <th>15</th>\n",
       "      <td>15</td>\n",
       "      <td>16</td>\n",
       "      <td>21</td>\n",
       "      <td>Male</td>\n",
       "      <td>Clothing</td>\n",
       "      <td>491.95</td>\n",
       "      <td>708.4080</td>\n",
       "      <td>2</td>\n",
       "      <td>2023-09-19</td>\n",
       "      <td>North</td>\n",
       "      <td>In-store</td>\n",
       "    </tr>\n",
       "    <tr>\n",
       "      <th>60</th>\n",
       "      <td>60</td>\n",
       "      <td>61</td>\n",
       "      <td>63</td>\n",
       "      <td>Male</td>\n",
       "      <td>Clothing</td>\n",
       "      <td>175.86</td>\n",
       "      <td>196.9632</td>\n",
       "      <td>1</td>\n",
       "      <td>2022-09-11</td>\n",
       "      <td>North</td>\n",
       "      <td>Online</td>\n",
       "    </tr>\n",
       "    <tr>\n",
       "      <th>77</th>\n",
       "      <td>77</td>\n",
       "      <td>78</td>\n",
       "      <td>29</td>\n",
       "      <td>Male</td>\n",
       "      <td>Clothing</td>\n",
       "      <td>15.19</td>\n",
       "      <td>19.1394</td>\n",
       "      <td>2</td>\n",
       "      <td>2023-03-13</td>\n",
       "      <td>West</td>\n",
       "      <td>In-store</td>\n",
       "    </tr>\n",
       "  </tbody>\n",
       "</table>\n",
       "</div>"
      ],
      "text/plain": [
       "    Unnamed: 0  Customer ID  Customer Age Customer Gender Product Category  \\\n",
       "7            7            8            58            Male         Clothing   \n",
       "14          14           15            36            Male         Clothing   \n",
       "15          15           16            21            Male         Clothing   \n",
       "60          60           61            63            Male         Clothing   \n",
       "77          77           78            29            Male         Clothing   \n",
       "\n",
       "      Cost  Sales Price  Quantity Date of Purchase Region Sales Channel  \n",
       "7   331.74     417.9924         1       2023-03-27   West      In-store  \n",
       "14  489.66     646.3512         3       2022-04-17   East        Online  \n",
       "15  491.95     708.4080         2       2023-09-19  North      In-store  \n",
       "60  175.86     196.9632         1       2022-09-11  North        Online  \n",
       "77   15.19      19.1394         2       2023-03-13   West      In-store  "
      ]
     },
     "execution_count": 19,
     "metadata": {},
     "output_type": "execute_result"
    }
   ],
   "source": [
    "Gender_Product_df.head()"
   ]
  },
  {
   "cell_type": "code",
   "execution_count": 20,
   "id": "a65d96e4-fb0e-4d71-af47-193e22d5d6c8",
   "metadata": {},
   "outputs": [
    {
     "data": {
      "text/html": [
       "<div>\n",
       "<style scoped>\n",
       "    .dataframe tbody tr th:only-of-type {\n",
       "        vertical-align: middle;\n",
       "    }\n",
       "\n",
       "    .dataframe tbody tr th {\n",
       "        vertical-align: top;\n",
       "    }\n",
       "\n",
       "    .dataframe thead th {\n",
       "        text-align: right;\n",
       "    }\n",
       "</style>\n",
       "<table border=\"1\" class=\"dataframe\">\n",
       "  <thead>\n",
       "    <tr style=\"text-align: right;\">\n",
       "      <th></th>\n",
       "      <th>Unnamed: 0</th>\n",
       "      <th>Customer ID</th>\n",
       "      <th>Customer Age</th>\n",
       "      <th>Customer Gender</th>\n",
       "      <th>Product Category</th>\n",
       "      <th>Cost</th>\n",
       "      <th>Sales Price</th>\n",
       "      <th>Quantity</th>\n",
       "      <th>Date of Purchase</th>\n",
       "      <th>Region</th>\n",
       "      <th>Sales Channel</th>\n",
       "    </tr>\n",
       "  </thead>\n",
       "  <tbody>\n",
       "    <tr>\n",
       "      <th>0</th>\n",
       "      <td>0</td>\n",
       "      <td>1</td>\n",
       "      <td>38</td>\n",
       "      <td>Male</td>\n",
       "      <td>Sports &amp; Outdoors</td>\n",
       "      <td>389.62</td>\n",
       "      <td>541.5718</td>\n",
       "      <td>3</td>\n",
       "      <td>2022-07-25</td>\n",
       "      <td>East</td>\n",
       "      <td>Online</td>\n",
       "    </tr>\n",
       "    <tr>\n",
       "      <th>1</th>\n",
       "      <td>1</td>\n",
       "      <td>2</td>\n",
       "      <td>66</td>\n",
       "      <td>Other</td>\n",
       "      <td>Sports &amp; Outdoors</td>\n",
       "      <td>133.87</td>\n",
       "      <td>159.3053</td>\n",
       "      <td>4</td>\n",
       "      <td>2023-11-15</td>\n",
       "      <td>West</td>\n",
       "      <td>Online</td>\n",
       "    </tr>\n",
       "    <tr>\n",
       "      <th>2</th>\n",
       "      <td>2</td>\n",
       "      <td>3</td>\n",
       "      <td>60</td>\n",
       "      <td>Male</td>\n",
       "      <td>Electronics</td>\n",
       "      <td>188.87</td>\n",
       "      <td>236.0875</td>\n",
       "      <td>2</td>\n",
       "      <td>2022-08-15</td>\n",
       "      <td>North</td>\n",
       "      <td>Online</td>\n",
       "    </tr>\n",
       "    <tr>\n",
       "      <th>3</th>\n",
       "      <td>3</td>\n",
       "      <td>4</td>\n",
       "      <td>58</td>\n",
       "      <td>Other</td>\n",
       "      <td>Sports &amp; Outdoors</td>\n",
       "      <td>99.05</td>\n",
       "      <td>129.7555</td>\n",
       "      <td>3</td>\n",
       "      <td>2023-08-01</td>\n",
       "      <td>West</td>\n",
       "      <td>In-store</td>\n",
       "    </tr>\n",
       "    <tr>\n",
       "      <th>4</th>\n",
       "      <td>4</td>\n",
       "      <td>5</td>\n",
       "      <td>63</td>\n",
       "      <td>Male</td>\n",
       "      <td>Beauty &amp; Health</td>\n",
       "      <td>488.85</td>\n",
       "      <td>664.8360</td>\n",
       "      <td>3</td>\n",
       "      <td>2022-06-14</td>\n",
       "      <td>South</td>\n",
       "      <td>Online</td>\n",
       "    </tr>\n",
       "  </tbody>\n",
       "</table>\n",
       "</div>"
      ],
      "text/plain": [
       "   Unnamed: 0  Customer ID  Customer Age Customer Gender   Product Category  \\\n",
       "0           0            1            38            Male  Sports & Outdoors   \n",
       "1           1            2            66           Other  Sports & Outdoors   \n",
       "2           2            3            60            Male        Electronics   \n",
       "3           3            4            58           Other  Sports & Outdoors   \n",
       "4           4            5            63            Male    Beauty & Health   \n",
       "\n",
       "     Cost  Sales Price  Quantity Date of Purchase Region Sales Channel  \n",
       "0  389.62     541.5718         3       2022-07-25   East        Online  \n",
       "1  133.87     159.3053         4       2023-11-15   West        Online  \n",
       "2  188.87     236.0875         2       2022-08-15  North        Online  \n",
       "3   99.05     129.7555         3       2023-08-01   West      In-store  \n",
       "4  488.85     664.8360         3       2022-06-14  South        Online  "
      ]
     },
     "execution_count": 20,
     "metadata": {},
     "output_type": "execute_result"
    }
   ],
   "source": [
    "df.head()"
   ]
  },
  {
   "cell_type": "code",
   "execution_count": 9,
   "id": "ac773923-1d00-4518-9fc4-789482696595",
   "metadata": {},
   "outputs": [],
   "source": [
    "# NO concatination and merging done as no extra data needed"
   ]
  },
  {
   "cell_type": "code",
   "execution_count": 35,
   "id": "b0672fc9-b7e6-4332-8a83-cd00ec4f45f5",
   "metadata": {},
   "outputs": [],
   "source": [
    "#1.What is the distribution of customer age, and does it influence the sales price?"
   ]
  },
  {
   "cell_type": "code",
   "execution_count": 21,
   "id": "4888255f-4999-4756-91c7-3d781be8aedc",
   "metadata": {},
   "outputs": [
    {
     "data": {
      "text/plain": [
       "Customer Age\n",
       "58    6\n",
       "63    5\n",
       "66    4\n",
       "29    4\n",
       "21    4\n",
       "22    4\n",
       "67    3\n",
       "55    3\n",
       "26    3\n",
       "44    3\n",
       "36    3\n",
       "52    3\n",
       "38    3\n",
       "19    3\n",
       "41    3\n",
       "27    3\n",
       "33    3\n",
       "68    2\n",
       "23    2\n",
       "35    2\n",
       "30    2\n",
       "64    2\n",
       "45    2\n",
       "59    2\n",
       "51    2\n",
       "49    2\n",
       "34    2\n",
       "37    2\n",
       "43    2\n",
       "47    1\n",
       "62    1\n",
       "60    1\n",
       "32    1\n",
       "28    1\n",
       "25    1\n",
       "69    1\n",
       "61    1\n",
       "46    1\n",
       "18    1\n",
       "54    1\n",
       "48    1\n",
       "53    1\n",
       "42    1\n",
       "39    1\n",
       "31    1\n",
       "Name: count, dtype: int64"
      ]
     },
     "execution_count": 21,
     "metadata": {},
     "output_type": "execute_result"
    }
   ],
   "source": [
    "Customer_age_frequencies = df['Customer Age'].value_counts()\n",
    "Customer_age_frequencies"
   ]
  },
  {
   "cell_type": "code",
   "execution_count": 42,
   "id": "86ecabce-9146-483f-8603-1adacef7730a",
   "metadata": {},
   "outputs": [
    {
     "data": {
      "image/png": "[encoded data removed]",
      "text/plain": [
       "<Figure size 640x480 with 1 Axes>"
      ]
     },
     "metadata": {},
     "output_type": "display_data"
    }
   ],
   "source": [
    "# Histogram + Density Plot\n",
    "sns.histplot(df['Customer Age'], bins=10, kde=True, color='skyblue')\n",
    "plt.title(\"Distribution of Customer Age\")\n",
    "plt.xlabel(\"Customer Age\")\n",
    "plt.ylabel(\"Frequency\")\n",
    "plt.show()"
   ]
  },
  {
   "cell_type": "code",
   "execution_count": 22,
   "id": "180e2097-16cf-4023-8ae6-d577c97a106c",
   "metadata": {},
   "outputs": [
    {
     "data": {
      "text/plain": [
       "Text(0.5, 1.0, 'Age Boxplot')"
      ]
     },
     "execution_count": 22,
     "metadata": {},
     "output_type": "execute_result"
    },
    {
     "data": {
      "image/png": "[encoded data removed]",
      "text/plain": [
       "<Figure size 1200x400 with 1 Axes>"
      ]
     },
     "metadata": {},
     "output_type": "display_data"
    }
   ],
   "source": [
    "import matplotlib.pyplot as plt\n",
    "import seaborn as sns\n",
    "# Create a figure with the boxplot\n",
    "plt.figure(figsize=(12, 4))\n",
    "\n",
    "# Plot the boxplot for 'Age' in the first subplot\n",
    "plt.subplot(131)  # 1 row, 3 columns, first subplot\n",
    "sns.boxplot(data=df['Customer Age'])\n",
    "plt.title('Age Boxplot')"
   ]
  },
  {
   "cell_type": "code",
   "execution_count": 45,
   "id": "e798e238-9cc1-43bb-bd36-a20cd04c1112",
   "metadata": {},
   "outputs": [
    {
     "data": {
      "image/png": "[encoded data removed]",
      "text/plain": [
       "<Figure size 640x480 with 1 Axes>"
      ]
     },
     "metadata": {},
     "output_type": "display_data"
    }
   ],
   "source": [
    "# Density Plot\n",
    "sns.kdeplot(df['Customer Age'], fill=True, color=\"skyblue\")\n",
    "plt.title(\"Density Plot of Customer Age\")\n",
    "plt.xlabel(\"Age\")\n",
    "plt.ylabel(\"Density\")\n",
    "plt.show()"
   ]
  },
  {
   "cell_type": "code",
   "execution_count": 3,
   "id": "50a40897-c8a8-4fe9-8d22-6b0dcedd1b56",
   "metadata": {},
   "outputs": [],
   "source": [
    "#From Plots we have created it seems that most of th customers are in age group of 20 to 40 and second most are in group 45 to 65"
   ]
  },
  {
   "cell_type": "code",
   "execution_count": 4,
   "id": "960d5869-d8e5-4552-b4cc-0b9aae622f93",
   "metadata": {},
   "outputs": [],
   "source": [
    "# Let's Find out relation between customer ages and Sales prices"
   ]
  },
  {
   "cell_type": "code",
   "execution_count": 23,
   "id": "b2aee588-614e-4ec4-b9e7-6f265aa6d88a",
   "metadata": {},
   "outputs": [
    {
     "data": {
      "text/plain": [
       "Sales Price\n",
       "541.5718    1\n",
       "159.3053    1\n",
       "236.0875    1\n",
       "129.7555    1\n",
       "664.8360    1\n",
       "           ..\n",
       "194.5944    1\n",
       "88.8632     1\n",
       "404.9169    1\n",
       "461.0841    1\n",
       "462.4410    1\n",
       "Name: count, Length: 100, dtype: int64"
      ]
     },
     "execution_count": 23,
     "metadata": {},
     "output_type": "execute_result"
    }
   ],
   "source": [
    "Sales_Price_frequencies = df['Sales Price'].value_counts()\n",
    "Sales_Price_frequencies"
   ]
  },
  {
   "cell_type": "code",
   "execution_count": 43,
   "id": "50330671-dcde-4dc4-b10d-bf663dc0ee31",
   "metadata": {},
   "outputs": [
    {
     "data": {
      "image/png": "[encoded data removed]",
      "text/plain": [
       "<Figure size 640x480 with 1 Axes>"
      ]
     },
     "metadata": {},
     "output_type": "display_data"
    }
   ],
   "source": [
    "# Histogram + Density Plot\n",
    "sns.histplot(df['Sales Price'], bins=10, kde=True, color='skyblue')\n",
    "plt.title(\"Distribution of Sales Price\")\n",
    "plt.xlabel(\"Sales Price\")\n",
    "plt.ylabel(\"Frequency\")\n",
    "plt.show()"
   ]
  },
  {
   "cell_type": "code",
   "execution_count": 44,
   "id": "fe2d8f5f-b019-4744-8b48-999261e09060",
   "metadata": {},
   "outputs": [
    {
     "data": {
      "text/plain": [
       "Text(0.5, 1.0, 'Age Boxplot')"
      ]
     },
     "execution_count": 44,
     "metadata": {},
     "output_type": "execute_result"
    },
    {
     "data": {
      "image/png": "[encoded data removed]",
      "text/plain": [
       "<Figure size 1200x400 with 1 Axes>"
      ]
     },
     "metadata": {},
     "output_type": "display_data"
    }
   ],
   "source": [
    "import matplotlib.pyplot as plt\n",
    "import seaborn as sns\n",
    "# Create a figure with the boxplot\n",
    "plt.figure(figsize=(12, 4))\n",
    "\n",
    "# Plot the boxplot for 'Age' in the first subplot\n",
    "plt.subplot(131)  # 1 row, 3 columns, first subplot\n",
    "sns.boxplot(data=df['Sales Price'])\n",
    "plt.title('Age Boxplot')"
   ]
  },
  {
   "cell_type": "code",
   "execution_count": null,
   "id": "3ae0d77b-479b-4bf3-8b72-661ad47f2c85",
   "metadata": {},
   "outputs": [],
   "source": []
  },
  {
   "cell_type": "code",
   "execution_count": 41,
   "id": "a3cd13ce-7795-4124-9d64-fd4cf9428298",
   "metadata": {},
   "outputs": [
    {
     "data": {
      "image/png": "[encoded data removed]",
      "text/plain": [
       "<Figure size 640x480 with 1 Axes>"
      ]
     },
     "metadata": {},
     "output_type": "display_data"
    }
   ],
   "source": [
    "# Density Plot\n",
    "sns.kdeplot(df['Sales Price'], fill=True, color=\"skyblue\")\n",
    "plt.title(\"Density Plot of Sales Price\")\n",
    "plt.xlabel(\"Sales Price\")\n",
    "plt.ylabel(\"Density\")\n",
    "plt.show()"
   ]
  },
  {
   "cell_type": "code",
   "execution_count": 24,
   "id": "0e94c22d-d2b5-4557-8f0f-da3be7de2f0e",
   "metadata": {},
   "outputs": [
    {
     "data": {
      "text/html": [
       "<div>\n",
       "<style scoped>\n",
       "    .dataframe tbody tr th:only-of-type {\n",
       "        vertical-align: middle;\n",
       "    }\n",
       "\n",
       "    .dataframe tbody tr th {\n",
       "        vertical-align: top;\n",
       "    }\n",
       "\n",
       "    .dataframe thead th {\n",
       "        text-align: right;\n",
       "    }\n",
       "</style>\n",
       "<table border=\"1\" class=\"dataframe\">\n",
       "  <thead>\n",
       "    <tr style=\"text-align: right;\">\n",
       "      <th></th>\n",
       "      <th>Customer Age</th>\n",
       "      <th>Sales Price</th>\n",
       "    </tr>\n",
       "  </thead>\n",
       "  <tbody>\n",
       "    <tr>\n",
       "      <th>count</th>\n",
       "      <td>100.000000</td>\n",
       "      <td>100.000000</td>\n",
       "    </tr>\n",
       "    <tr>\n",
       "      <th>mean</th>\n",
       "      <td>43.200000</td>\n",
       "      <td>325.018861</td>\n",
       "    </tr>\n",
       "    <tr>\n",
       "      <th>std</th>\n",
       "      <td>15.562841</td>\n",
       "      <td>202.007295</td>\n",
       "    </tr>\n",
       "    <tr>\n",
       "      <th>min</th>\n",
       "      <td>18.000000</td>\n",
       "      <td>13.686900</td>\n",
       "    </tr>\n",
       "    <tr>\n",
       "      <th>25%</th>\n",
       "      <td>29.000000</td>\n",
       "      <td>139.869900</td>\n",
       "    </tr>\n",
       "    <tr>\n",
       "      <th>50%</th>\n",
       "      <td>42.500000</td>\n",
       "      <td>296.315750</td>\n",
       "    </tr>\n",
       "    <tr>\n",
       "      <th>75%</th>\n",
       "      <td>58.000000</td>\n",
       "      <td>491.692875</td>\n",
       "    </tr>\n",
       "    <tr>\n",
       "      <th>max</th>\n",
       "      <td>69.000000</td>\n",
       "      <td>710.932400</td>\n",
       "    </tr>\n",
       "  </tbody>\n",
       "</table>\n",
       "</div>"
      ],
      "text/plain": [
       "       Customer Age  Sales Price\n",
       "count    100.000000   100.000000\n",
       "mean      43.200000   325.018861\n",
       "std       15.562841   202.007295\n",
       "min       18.000000    13.686900\n",
       "25%       29.000000   139.869900\n",
       "50%       42.500000   296.315750\n",
       "75%       58.000000   491.692875\n",
       "max       69.000000   710.932400"
      ]
     },
     "execution_count": 24,
     "metadata": {},
     "output_type": "execute_result"
    }
   ],
   "source": [
    "#Find the descriptives of Customer Age and Sales price.\n",
    "\n",
    "numeric_columns = ['Customer Age' , 'Sales Price' ]\n",
    "\n",
    "# Perform descriptive analysis for the specific numeric variables\n",
    "numeric_summary = df[numeric_columns].describe()\n",
    "numeric_summary"
   ]
  },
  {
   "cell_type": "code",
   "execution_count": 25,
   "id": "fc424839-18cd-4ea4-af2e-4ad7a5cc0ede",
   "metadata": {},
   "outputs": [
    {
     "name": "stdout",
     "output_type": "stream",
     "text": [
      "Correlation between Customer Age and Sales Price: 0.09\n"
     ]
    }
   ],
   "source": [
    "# Correlation between Age and Sales Price\n",
    "corr_age_price = df[['Customer Age', 'Sales Price']].corr().iloc[0,1]\n",
    "print(f\"Correlation between Customer Age and Sales Price: {corr_age_price:.2f}\")\n"
   ]
  },
  {
   "cell_type": "code",
   "execution_count": 46,
   "id": "dc8d6277-4bea-4a89-808e-68822c42167b",
   "metadata": {},
   "outputs": [
    {
     "data": {
      "image/png": "[encoded data removed]",
      "text/plain": [
       "<Figure size 800x600 with 2 Axes>"
      ]
     },
     "metadata": {},
     "output_type": "display_data"
    }
   ],
   "source": [
    "#Find the relationship between Customer Age and Sales Price.\n",
    "\n",
    "# Calculate the correlation matrix\n",
    "correlation_matrix = df[['Customer Age' , 'Sales Price']].corr()\n",
    "\n",
    "# Visualize the correlation matrix as a heatmap\n",
    "plt.figure(figsize=(8, 6))\n",
    "sns.heatmap(correlation_matrix, annot=True, cmap=\"coolwarm\", linewidths=0.5)\n",
    "plt.title('Correlation Matrix')\n",
    "plt.show()"
   ]
  },
  {
   "cell_type": "code",
   "execution_count": 28,
   "id": "b9af0c61-e7d2-4378-b3e1-fb75d1e111d3",
   "metadata": {},
   "outputs": [],
   "source": [
    "import statsmodels.api as sm\n"
   ]
  },
  {
   "cell_type": "code",
   "execution_count": 54,
   "id": "48dbc80e-0193-4439-93d9-7b10d0a585e4",
   "metadata": {},
   "outputs": [
    {
     "name": "stdout",
     "output_type": "stream",
     "text": [
      "                            OLS Regression Results                            \n",
      "==============================================================================\n",
      "Dep. Variable:            Sales Price   R-squared:                       0.008\n",
      "Model:                            OLS   Adj. R-squared:                 -0.002\n",
      "Method:                 Least Squares   F-statistic:                    0.8064\n",
      "Date:                Sun, 05 Oct 2025   Prob (F-statistic):              0.371\n",
      "Time:                        01:05:23   Log-Likelihood:                -671.81\n",
      "No. Observations:                 100   AIC:                             1348.\n",
      "Df Residuals:                      98   BIC:                             1353.\n",
      "Df Model:                           1                                         \n",
      "Covariance Type:            nonrobust                                         \n",
      "================================================================================\n",
      "                   coef    std err          t      P>|t|      [0.025      0.975]\n",
      "--------------------------------------------------------------------------------\n",
      "const          274.3604     59.926      4.578      0.000     155.439     393.282\n",
      "Customer Age     1.1726      1.306      0.898      0.371      -1.419       3.764\n",
      "==============================================================================\n",
      "Omnibus:                       33.140   Durbin-Watson:                   1.817\n",
      "Prob(Omnibus):                  0.000   Jarque-Bera (JB):                6.521\n",
      "Skew:                           0.189   Prob(JB):                       0.0384\n",
      "Kurtosis:                       1.807   Cond. No.                         136.\n",
      "==============================================================================\n",
      "\n",
      "Notes:\n",
      "[1] Standard Errors assume that the covariance matrix of the errors is correctly specified.\n"
     ]
    }
   ],
   "source": [
    "# Simple Linear Regression (Sales Price ~ Age)\n",
    "X = sm.add_constant(df['Customer Age'])\n",
    "y = df['Sales Price']\n",
    "model = sm.OLS(y, X).fit()\n",
    "print(model.summary())"
   ]
  },
  {
   "cell_type": "code",
   "execution_count": 57,
   "id": "e048675b-32eb-4c14-a01a-b96ba2ad4813",
   "metadata": {
    "scrolled": true
   },
   "outputs": [
    {
     "data": {
      "image/png": "[encoded data removed]",
      "text/plain": [
       "<Figure size 640x480 with 1 Axes>"
      ]
     },
     "metadata": {},
     "output_type": "display_data"
    }
   ],
   "source": [
    "# Scatter plot with regression line\n",
    "sns.regplot(x='Customer Age', y='Sales Price', data=df, scatter_kws={'alpha':0.5}, line_kws={'color':'purple'})\n",
    "plt.title(\"Customer Age vs Sales Price\")\n",
    "plt.show()"
   ]
  },
  {
   "cell_type": "code",
   "execution_count": 47,
   "id": "7827bfb6-f524-4377-8401-3fb7aa599aa3",
   "metadata": {},
   "outputs": [],
   "source": [
    "# From regression KDE Plots and Correlation value 0.09 it indicates that there is very weak positive relation in between customer age and sales price"
   ]
  },
  {
   "cell_type": "code",
   "execution_count": 50,
   "id": "a788b209-b1bc-4a68-a2e4-a08f9117a6f3",
   "metadata": {},
   "outputs": [],
   "source": [
    "#2. Sales Performance Across Different Sales Channels"
   ]
  },
  {
   "cell_type": "code",
   "execution_count": 51,
   "id": "ee7b5f15-1990-4f9b-9c5e-71aba9d3b4c2",
   "metadata": {
    "scrolled": true
   },
   "outputs": [
    {
     "name": "stdout",
     "output_type": "stream",
     "text": [
      "\n",
      "Total Sales by Channel:\n",
      " Sales Channel\n",
      "Online      16562.5739\n",
      "In-store    15939.3122\n",
      "Name: Sales Price, dtype: float64\n"
     ]
    }
   ],
   "source": [
    "channel_sales = df.groupby('Sales Channel')['Sales Price'].sum().sort_values(ascending=False)\n",
    "print(\"\\nTotal Sales by Channel:\\n\", channel_sales)\n"
   ]
  },
  {
   "cell_type": "code",
   "execution_count": 90,
   "id": "0e4bee23-240a-45f2-9800-2b034c7a1b0e",
   "metadata": {},
   "outputs": [
    {
     "data": {
      "image/png": "[encoded data removed]",
      "text/plain": [
       "<Figure size 640x480 with 1 Axes>"
      ]
     },
     "metadata": {},
     "output_type": "display_data"
    }
   ],
   "source": [
    "# Bar chart\n",
    "sns.barplot(x=channel_sales.index, y=channel_sales.values, hue=channel_sales.index,\n",
    "            palette='viridis', legend=False)\n",
    "plt.title(\"Sales Performance by Channel\")\n",
    "plt.ylabel(\"Total Sales\")\n",
    "plt.xlabel(\"Sales Channel\")\n",
    "plt.show()\n"
   ]
  },
  {
   "cell_type": "code",
   "execution_count": 53,
   "id": "d8c8864f-ec03-4716-a1be-883f3e80563c",
   "metadata": {},
   "outputs": [],
   "source": [
    "# Customers Prefer Online Sales Chsnnel compared to In-store shopping"
   ]
  },
  {
   "cell_type": "code",
   "execution_count": 58,
   "id": "79ad8f32-1149-469a-beff-f160c6878566",
   "metadata": {},
   "outputs": [],
   "source": [
    "#3. Relationship Between Cost, Sales Price, and Quantity Sold "
   ]
  },
  {
   "cell_type": "code",
   "execution_count": 61,
   "id": "358e4448-d86d-4f6a-bff7-3a1fabbd57eb",
   "metadata": {},
   "outputs": [
    {
     "name": "stdout",
     "output_type": "stream",
     "text": [
      "\n",
      "Correlation between Cost, Sales Price, and Quantity:\n",
      "                  Cost  Sales Price  Quantity\n",
      "Cost         1.000000     0.986441 -0.066997\n",
      "Sales Price  0.986441     1.000000 -0.052961\n",
      "Quantity    -0.066997    -0.052961  1.000000\n"
     ]
    }
   ],
   "source": [
    "# Correlation matrix\n",
    "corr_matrix = df[['Cost', 'Sales Price', 'Quantity']].corr()\n",
    "print(\"\\nCorrelation between Cost, Sales Price, and Quantity:\\n\", corr_matrix)\n",
    "\n"
   ]
  },
  {
   "cell_type": "code",
   "execution_count": 104,
   "id": "121a6797-32e9-43a4-98fd-4649323b2e92",
   "metadata": {},
   "outputs": [
    {
     "data": {
      "image/png": "[encoded data removed]",
      "text/plain": [
       "<Figure size 750x750 with 12 Axes>"
      ]
     },
     "metadata": {},
     "output_type": "display_data"
    }
   ],
   "source": [
    "# Scatter plots\n",
    "sns.pairplot(df[['Cost', 'Sales Price', 'Quantity']])\n",
    "plt.suptitle(\"Relationship among Cost, Sales Price & Quantity\", y=1.02)\n",
    "plt.show()"
   ]
  },
  {
   "cell_type": "code",
   "execution_count": 64,
   "id": "8b56d92e-8a7e-4e3a-b5ba-3e05e6426603",
   "metadata": {},
   "outputs": [],
   "source": [
    "# Profit Calculation\n",
    "df['Profit'] = (df['Sales Price'] - df['Cost']) * df['Quantity']"
   ]
  },
  {
   "cell_type": "code",
   "execution_count": 70,
   "id": "91607a4a-5092-41ef-8d63-62af553823c1",
   "metadata": {},
   "outputs": [],
   "source": [
    "# From scatter plots and correlation values it is clear that Quantity has negative relationship with both Sales Price and Cost \n",
    "#whereas Sales price and cost have positive relationship"
   ]
  },
  {
   "cell_type": "code",
   "execution_count": 71,
   "id": "6afb6040-700e-4744-97ae-3f17e1cd7a87",
   "metadata": {},
   "outputs": [],
   "source": [
    "#4.Monthly Sales Performance "
   ]
  },
  {
   "cell_type": "code",
   "execution_count": 106,
   "id": "8fad536f-675d-4541-bac2-7e4cb4185dbe",
   "metadata": {},
   "outputs": [
    {
     "name": "stdout",
     "output_type": "stream",
     "text": [
      "\n",
      "Monthly Sales Performance:\n",
      " Month\n",
      "1     336.141980\n",
      "2     324.420757\n",
      "3     321.380191\n",
      "4     267.676987\n",
      "5     444.141922\n",
      "6     368.478162\n",
      "7     310.011150\n",
      "8     379.667775\n",
      "9     316.386720\n",
      "10    316.877323\n",
      "11    213.593762\n",
      "12    283.815280\n",
      "Name: Sales Price, dtype: float64\n"
     ]
    }
   ],
   "source": [
    "df['Date of Purchase'] = pd.to_datetime(df['Date of Purchase'])  # ensure datetime\n",
    "df['Month'] = df['Date of Purchase'].dt.month\n",
    "\n",
    "monthly_sales = df.groupby('Month')['Sales Price'].mean()\n",
    "print(\"\\nMonthly Sales Performance:\\n\", monthly_sales)"
   ]
  },
  {
   "cell_type": "code",
   "execution_count": 107,
   "id": "ee9a09d5-6501-4e0b-acc3-dabcef240063",
   "metadata": {},
   "outputs": [
    {
     "data": {
      "image/png": "[encoded data removed]",
      "text/plain": [
       "<Figure size 640x480 with 1 Axes>"
      ]
     },
     "metadata": {},
     "output_type": "display_data"
    }
   ],
   "source": [
    "monthly_sales.plot(kind='line', marker='o', color='green')\n",
    "plt.title(\"Monthly Sales Trend\")\n",
    "plt.xlabel(\"Month\")\n",
    "plt.ylabel(\"Average Sales\")\n",
    "plt.show()"
   ]
  },
  {
   "cell_type": "code",
   "execution_count": null,
   "id": "01286560-25ca-4b93-b503-8df0c462d0b6",
   "metadata": {},
   "outputs": [],
   "source": [
    "# Highest monthly sale is in April to june  whereas least is in October to November"
   ]
  },
  {
   "cell_type": "code",
   "execution_count": 86,
   "id": "16cdab22-b7c3-489f-8506-7a3aeceb7649",
   "metadata": {},
   "outputs": [],
   "source": [
    "#5. Most Profitable Product Category"
   ]
  },
  {
   "cell_type": "code",
   "execution_count": 87,
   "id": "83768311-c7cc-432e-8de3-b31cfd0b9ae8",
   "metadata": {},
   "outputs": [
    {
     "name": "stdout",
     "output_type": "stream",
     "text": [
      "\n",
      "Profit by Product Category:\n",
      " Product Category\n",
      "Beauty & Health      4472.0366\n",
      "Electronics          4436.3447\n",
      "Sports & Outdoors    4207.5046\n",
      "Home & Kitchen       2742.3751\n",
      "Clothing             2511.7825\n",
      "Name: Profit, dtype: float64\n"
     ]
    }
   ],
   "source": [
    "profit_by_category = df.groupby('Product Category')['Profit'].sum().sort_values(ascending=False)\n",
    "print(\"\\nProfit by Product Category:\\n\", profit_by_category)"
   ]
  },
  {
   "cell_type": "code",
   "execution_count": 97,
   "id": "74b115bb-c879-4891-8039-a6c0cca9dee2",
   "metadata": {},
   "outputs": [
    {
     "data": {
      "image/png": "[encoded data removed]",
      "text/plain": [
       "<Figure size 640x480 with 1 Axes>"
      ]
     },
     "metadata": {},
     "output_type": "display_data"
    }
   ],
   "source": [
    "sns.barplot(x=profit_by_category.index, y=profit_by_category.values, hue=profit_by_category.index,\n",
    "            palette='viridis', legend=False)\n",
    "plt.title(\"Profit by Product Category\")\n",
    "plt.xlabel(\"Product Category\")\n",
    "plt.ylabel(\"Total Profit\")\n",
    "plt.xticks(rotation=45)\n",
    "plt.show()"
   ]
  },
  {
   "cell_type": "code",
   "execution_count": null,
   "id": "8389213d-3ff1-42b7-82fc-c85292c69c33",
   "metadata": {},
   "outputs": [],
   "source": [
    "# From Bar graph for proit vs product category it seams that beauty nd health category is most profitable close to electronics "
   ]
  }
 ],
 "metadata": {
  "kernelspec": {
   "display_name": "Python 3 (ipykernel)",
   "language": "python",
   "name": "python3"
  },
  "language_info": {
   "codemirror_mode": {
    "name": "ipython",
    "version": 3
   },
   "file_extension": ".py",
   "mimetype": "text/x-python",
   "name": "python",
   "nbconvert_exporter": "python",
   "pygments_lexer": "ipython3",
   "version": "3.13.5"
  }
 },
 "nbformat": 4,
 "nbformat_minor": 5
}
